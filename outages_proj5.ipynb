{
 "cells": [
  {
   "cell_type": "markdown",
   "metadata": {},
   "source": [
    "# Power Outages\n",
    "* **See the main project notebook for instructions to be sure you satisfy the rubric!**\n",
    "* See Project 03 for information on the dataset.\n",
    "* A few example prediction questions to pursue are listed below. However, don't limit yourself to them!\n",
    "    * Predict the severity (number of customers, duration, or demand loss) of a major power outage.\n",
    "    * Predict the cause of a major power outage.\n",
    "    * Predict the number and/or severity of major power outages in the year 2020.\n",
    "    * Predict the electricity consumption of an area.\n",
    "\n",
    "Be careful to justify what information you would know at the \"time of prediction\" and train your model using only those features."
   ]
  },
  {
   "cell_type": "markdown",
   "metadata": {},
   "source": [
    "# Summary of Findings\n",
    "\n",
    "\n",
    "### Introduction\n",
    "In this project, we explore the major power outage data in the continental U.S. from January 2000 to July 2016 and use the classification prediction model to predict if an outage will be serious or not. Setting the median of customer affected as threshold, we used a Binarizer by labeling the outage with the customer affected larger than the median as 1 and 0 vice versa. We assigned the results as \"Outcomes\" in our dataset which also stands as our targeting feature. We decided to run the baseline model using one hot ecoding on categorical variable and dropped the features which has large amount (>300) of nan values since missingness does not help us to predict our outcome. Randomly splitting the data into 70% training set and 30% testing set, the baseline model gives us a train accuracy around 81% and test accuracy around 70% which can definitely be improved. In final model, we added the status of the population in our model and log transform IND.CUST.PCT in order to improve our model. We obtain a test accuracy around 76% which is definitely an improvement. Lastly, we did a fairness analysis to to check if our model is fair when evaluating the severity in coastal and inland states using permutation test on \n",
    "### Baseline Model\n",
    "We dropped three features which had large amount of nan values thus leaving us 50 features to predict if the outage is serious or not. After dropping these features, we also dropped the rows that contained nan values to make it easier for us to predict our model. Later, we converted the features that are supposed to be quantitative from objects to float. We then apply one hot encoding to the categorical features and put the adjusted data into Column Transformer and Pipeline using the Decision Tree Classifier which gives us the test accuracy around 84% and test accuracy around 70% which definitely can be improved.\n",
    "\n",
    "Below are the name of the features and whether it is nominal(N), ordinal(O), or quantitative(Q): \n",
    "\n",
    "'YEAR': O, 'MONTH': N, NERC.REGION': N 'CLIMATE.REGION': N, 'ANOMALY.LEVEL': Q, 'CAUSE.CATEGORY': N, 'CAUSE.CATEGORY': N, 'OUTAGE.DURATION': Q, 'CUSTOMERS.AFFECTED': Q, 'RES.PRICE': Q, 'COM.PRICE: Q, 'IND.PRICE': Q, 'TOTAL.PRICE': Q, 'RES.SALES': Q, 'COM.SALES': Q, 'IND.SALES': Q, 'TOTAL.SALES': Q, 'RES.PERCEN': Q, 'COM.PERCEN': Q, 'IND.PERCEN': Q, 'RES.CUSTOMERS': Q, 'COM.CUSTOMERS': Q, 'IND.CUSTOMERS': Q, 'TOTAL.CUSTOMERS': Q ,'RES.CUST.PCT': Q, 'COM.CUST.PCT': Q, 'IND.CUST.PCT': Q, 'PC.REALGSP.REL':Q, 'PC.REALGSP.CHANGE': Q, 'UTIL.REALGSP': Q, 'TOTAL.REALGSP': Q, 'UTIL.CONTRI': Q, 'PI.UTIL.OFUSA': Q,'POPULATION': Q, 'POPPCT_URBAN': Q, 'POPPCT_UC': Q, 'POPDEN_URBAN': Q, 'POPDEN_UC':Q, 'POPDEN_RURAL': Q, 'AREAPCT_URBAN': Q, 'AREAPCT_UC': Q, 'PCT_LAND': Q, 'PCT_WATER_TOT': Q, 'PCT_WATER_INLAND': Q, 'OUTAGE.START': O,'OUTAGE.RESTORATION': O, 'Outcome': O\n",
    "\n",
    "### Final Model\n",
    "In the final model, we added the feature POPULATION_CATEGORICAl which used the quatiles of population as thresholds to determine if the population is Very_Little_People, Little_People, Many_People or Very_Many_People. The reason for us to add this feature was because . After running the model, we obtain the train accuracy around 83% and test accuracy around 72% which is only a slightly improvement. We also find out one quantitative feature, IND.CUST.PCT, with large standard deviation and highly skewed which may cause a problem to our prediction; therefore, we log transform this feature using FunctionTransformer and repeated the steps as baseline model. After using GridSearchCV, we obtain the best max_depth to be 3 and obtain the test accuray around 76% which is an improvement comparing to our test accuracy in the baseline model.\n",
    "\n",
    "### Fairness Evaluation\n",
    "We evaluate our model for \"fairness\" on the 'U.S.State' subset of the data using a permutation test. We want to explore whether our model is fairer for inland states or costal state. Thus, we binarize our subset by setting the States that are inland as 'inland' and the States that are costal as 'costal'. Now my dataset is split into subsets: a costal subset and an inland subset. These are our X and Y.\n",
    "\n",
    "Our null and alternative tests are states as below with the significance level of 0.01:\n",
    "\n",
    "- Null Hypothesis: our model is fair, as the precision for my two subsets are roughly the same\n",
    "\n",
    "- Alternative Hypothesis: our model is unfair, as the precision for the 'coastal' subset is different from the \"inland\" subset\n",
    "\n",
    "We first created a column 'is_coastal', using classification from relavent [Wikipedia page] (https://en.wikipedia.org/wiki/List_of_U.S._states_and_territories_by_coastline). \n",
    "\n",
    "Here, our methodology is to shuffle the 'is_coastal' column and verify if our observative accuracy is similar enough to other permutated result by checking it poistion in the simulated distribution. Once we got the subsets of the data with no Null values, we ran our final model on the subset of the data and found the difference in accuracy score for the coastal and inland group in the model. Then we store this difference of score in an array. We ran this proccess of getting the test statistic 1000 times to get a distribution of test statistics. We found our p-value based on the proportion of test statistics above a pre-determined threshold. We chose our threshold to be 0.01. Comparing to our siginificance level 0.49 (<0.01), we fail to reject the null hypothesis and conclude that our model is fair when predicting the seriousness of the outage for coastal and inland states.\n"
   ]
  },
  {
   "cell_type": "markdown",
   "metadata": {},
   "source": [
    "# Code"
   ]
  },
  {
   "cell_type": "code",
   "execution_count": 1,
   "metadata": {},
   "outputs": [],
   "source": [
    "import matplotlib.pyplot as plt\n",
    "import numpy as np\n",
    "import os\n",
    "import pandas as pd\n",
    "import seaborn as sns\n",
    "import sklearn.metrics as metrics\n",
    "\n",
    "from sklearn.preprocessing import Binarizer \n",
    "from sklearn.linear_model import LinearRegression\n",
    "from sklearn.preprocessing import FunctionTransformer\n",
    "from sklearn.preprocessing import OneHotEncoder\n",
    "from sklearn.pipeline import Pipeline\n",
    "from sklearn.compose import ColumnTransformer\n",
    "from sklearn.tree import DecisionTreeClassifier\n",
    "from sklearn.model_selection import train_test_split\n",
    "from sklearn.model_selection import GridSearchCV\n",
    "from sklearn.metrics import accuracy_score\n",
    "from sklearn.neighbors import KNeighborsClassifier\n",
    "from sklearn.ensemble import RandomForestClassifier\n",
    "from sklearn import metrics \n",
    "\n",
    "%matplotlib inline\n",
    "%config InlineBackend.figure_format = 'retina'  # Higher resolution figures"
   ]
  },
  {
   "cell_type": "markdown",
   "metadata": {},
   "source": [
    "### Cleaning and EDA\n",
    "It is vital for us to do data cleaning before performing EDA and further testing since the original data contains invalid column names and some invalid rows."
   ]
  },
  {
   "cell_type": "code",
   "execution_count": 2,
   "metadata": {},
   "outputs": [
    {
     "name": "stderr",
     "output_type": "stream",
     "text": [
      "<ipython-input-2-47f97813fd93>:2: FutureWarning: Your version of xlrd is 1.2.0. In xlrd >= 2.0, only the xls format is supported. As a result, the openpyxl engine will be used if it is installed and the engine argument is not specified. Install openpyxl instead.\n",
      "  df = pd.read_excel('outage.xlsx')\n"
     ]
    },
    {
     "data": {
      "text/html": [
       "<div>\n",
       "<style scoped>\n",
       "    .dataframe tbody tr th:only-of-type {\n",
       "        vertical-align: middle;\n",
       "    }\n",
       "\n",
       "    .dataframe tbody tr th {\n",
       "        vertical-align: top;\n",
       "    }\n",
       "\n",
       "    .dataframe thead th {\n",
       "        text-align: right;\n",
       "    }\n",
       "</style>\n",
       "<table border=\"1\" class=\"dataframe\">\n",
       "  <thead>\n",
       "    <tr style=\"text-align: right;\">\n",
       "      <th></th>\n",
       "      <th>Major power outage events in the continental U.S.</th>\n",
       "      <th>Unnamed: 1</th>\n",
       "      <th>Unnamed: 2</th>\n",
       "      <th>Unnamed: 3</th>\n",
       "      <th>Unnamed: 4</th>\n",
       "      <th>Unnamed: 5</th>\n",
       "      <th>Unnamed: 6</th>\n",
       "      <th>Unnamed: 7</th>\n",
       "      <th>Unnamed: 8</th>\n",
       "      <th>Unnamed: 9</th>\n",
       "      <th>...</th>\n",
       "      <th>Unnamed: 47</th>\n",
       "      <th>Unnamed: 48</th>\n",
       "      <th>Unnamed: 49</th>\n",
       "      <th>Unnamed: 50</th>\n",
       "      <th>Unnamed: 51</th>\n",
       "      <th>Unnamed: 52</th>\n",
       "      <th>Unnamed: 53</th>\n",
       "      <th>Unnamed: 54</th>\n",
       "      <th>Unnamed: 55</th>\n",
       "      <th>Unnamed: 56</th>\n",
       "    </tr>\n",
       "  </thead>\n",
       "  <tbody>\n",
       "    <tr>\n",
       "      <th>0</th>\n",
       "      <td>Time period: January 2000 - July 2016</td>\n",
       "      <td>NaN</td>\n",
       "      <td>NaN</td>\n",
       "      <td>NaN</td>\n",
       "      <td>NaN</td>\n",
       "      <td>NaN</td>\n",
       "      <td>NaN</td>\n",
       "      <td>NaN</td>\n",
       "      <td>NaN</td>\n",
       "      <td>NaN</td>\n",
       "      <td>...</td>\n",
       "      <td>NaN</td>\n",
       "      <td>NaN</td>\n",
       "      <td>NaN</td>\n",
       "      <td>NaN</td>\n",
       "      <td>NaN</td>\n",
       "      <td>NaN</td>\n",
       "      <td>NaN</td>\n",
       "      <td>NaN</td>\n",
       "      <td>NaN</td>\n",
       "      <td>NaN</td>\n",
       "    </tr>\n",
       "    <tr>\n",
       "      <th>1</th>\n",
       "      <td>Regions affected: Outages reported in this dat...</td>\n",
       "      <td>NaN</td>\n",
       "      <td>NaN</td>\n",
       "      <td>NaN</td>\n",
       "      <td>NaN</td>\n",
       "      <td>NaN</td>\n",
       "      <td>NaN</td>\n",
       "      <td>NaN</td>\n",
       "      <td>NaN</td>\n",
       "      <td>NaN</td>\n",
       "      <td>...</td>\n",
       "      <td>NaN</td>\n",
       "      <td>NaN</td>\n",
       "      <td>NaN</td>\n",
       "      <td>NaN</td>\n",
       "      <td>NaN</td>\n",
       "      <td>NaN</td>\n",
       "      <td>NaN</td>\n",
       "      <td>NaN</td>\n",
       "      <td>NaN</td>\n",
       "      <td>NaN</td>\n",
       "    </tr>\n",
       "    <tr>\n",
       "      <th>2</th>\n",
       "      <td>NaN</td>\n",
       "      <td>NaN</td>\n",
       "      <td>NaN</td>\n",
       "      <td>NaN</td>\n",
       "      <td>NaN</td>\n",
       "      <td>NaN</td>\n",
       "      <td>NaN</td>\n",
       "      <td>NaN</td>\n",
       "      <td>NaN</td>\n",
       "      <td>NaN</td>\n",
       "      <td>...</td>\n",
       "      <td>NaN</td>\n",
       "      <td>NaN</td>\n",
       "      <td>NaN</td>\n",
       "      <td>NaN</td>\n",
       "      <td>NaN</td>\n",
       "      <td>NaN</td>\n",
       "      <td>NaN</td>\n",
       "      <td>NaN</td>\n",
       "      <td>NaN</td>\n",
       "      <td>NaN</td>\n",
       "    </tr>\n",
       "    <tr>\n",
       "      <th>3</th>\n",
       "      <td>NaN</td>\n",
       "      <td>NaN</td>\n",
       "      <td>NaN</td>\n",
       "      <td>NaN</td>\n",
       "      <td>NaN</td>\n",
       "      <td>NaN</td>\n",
       "      <td>NaN</td>\n",
       "      <td>NaN</td>\n",
       "      <td>NaN</td>\n",
       "      <td>NaN</td>\n",
       "      <td>...</td>\n",
       "      <td>NaN</td>\n",
       "      <td>NaN</td>\n",
       "      <td>NaN</td>\n",
       "      <td>NaN</td>\n",
       "      <td>NaN</td>\n",
       "      <td>NaN</td>\n",
       "      <td>NaN</td>\n",
       "      <td>NaN</td>\n",
       "      <td>NaN</td>\n",
       "      <td>NaN</td>\n",
       "    </tr>\n",
       "    <tr>\n",
       "      <th>4</th>\n",
       "      <td>variables</td>\n",
       "      <td>OBS</td>\n",
       "      <td>YEAR</td>\n",
       "      <td>MONTH</td>\n",
       "      <td>U.S._STATE</td>\n",
       "      <td>POSTAL.CODE</td>\n",
       "      <td>NERC.REGION</td>\n",
       "      <td>CLIMATE.REGION</td>\n",
       "      <td>ANOMALY.LEVEL</td>\n",
       "      <td>CLIMATE.CATEGORY</td>\n",
       "      <td>...</td>\n",
       "      <td>POPPCT_URBAN</td>\n",
       "      <td>POPPCT_UC</td>\n",
       "      <td>POPDEN_URBAN</td>\n",
       "      <td>POPDEN_UC</td>\n",
       "      <td>POPDEN_RURAL</td>\n",
       "      <td>AREAPCT_URBAN</td>\n",
       "      <td>AREAPCT_UC</td>\n",
       "      <td>PCT_LAND</td>\n",
       "      <td>PCT_WATER_TOT</td>\n",
       "      <td>PCT_WATER_INLAND</td>\n",
       "    </tr>\n",
       "  </tbody>\n",
       "</table>\n",
       "<p>5 rows × 57 columns</p>\n",
       "</div>"
      ],
      "text/plain": [
       "   Major power outage events in the continental U.S. Unnamed: 1 Unnamed: 2  \\\n",
       "0              Time period: January 2000 - July 2016        NaN        NaN   \n",
       "1  Regions affected: Outages reported in this dat...        NaN        NaN   \n",
       "2                                                NaN        NaN        NaN   \n",
       "3                                                NaN        NaN        NaN   \n",
       "4                                          variables        OBS       YEAR   \n",
       "\n",
       "  Unnamed: 3  Unnamed: 4   Unnamed: 5   Unnamed: 6      Unnamed: 7  \\\n",
       "0        NaN         NaN          NaN          NaN             NaN   \n",
       "1        NaN         NaN          NaN          NaN             NaN   \n",
       "2        NaN         NaN          NaN          NaN             NaN   \n",
       "3        NaN         NaN          NaN          NaN             NaN   \n",
       "4      MONTH  U.S._STATE  POSTAL.CODE  NERC.REGION  CLIMATE.REGION   \n",
       "\n",
       "      Unnamed: 8        Unnamed: 9  ...   Unnamed: 47 Unnamed: 48  \\\n",
       "0            NaN               NaN  ...           NaN         NaN   \n",
       "1            NaN               NaN  ...           NaN         NaN   \n",
       "2            NaN               NaN  ...           NaN         NaN   \n",
       "3            NaN               NaN  ...           NaN         NaN   \n",
       "4  ANOMALY.LEVEL  CLIMATE.CATEGORY  ...  POPPCT_URBAN   POPPCT_UC   \n",
       "\n",
       "    Unnamed: 49 Unnamed: 50   Unnamed: 51    Unnamed: 52 Unnamed: 53  \\\n",
       "0           NaN         NaN           NaN            NaN         NaN   \n",
       "1           NaN         NaN           NaN            NaN         NaN   \n",
       "2           NaN         NaN           NaN            NaN         NaN   \n",
       "3           NaN         NaN           NaN            NaN         NaN   \n",
       "4  POPDEN_URBAN   POPDEN_UC  POPDEN_RURAL  AREAPCT_URBAN  AREAPCT_UC   \n",
       "\n",
       "  Unnamed: 54    Unnamed: 55       Unnamed: 56  \n",
       "0         NaN            NaN               NaN  \n",
       "1         NaN            NaN               NaN  \n",
       "2         NaN            NaN               NaN  \n",
       "3         NaN            NaN               NaN  \n",
       "4    PCT_LAND  PCT_WATER_TOT  PCT_WATER_INLAND  \n",
       "\n",
       "[5 rows x 57 columns]"
      ]
     },
     "execution_count": 2,
     "metadata": {},
     "output_type": "execute_result"
    }
   ],
   "source": [
    "#Read in Excel file\n",
    "df = pd.read_excel('outage.xlsx')\n",
    "df.head()"
   ]
  },
  {
   "cell_type": "code",
   "execution_count": 3,
   "metadata": {},
   "outputs": [
    {
     "data": {
      "text/html": [
       "<div>\n",
       "<style scoped>\n",
       "    .dataframe tbody tr th:only-of-type {\n",
       "        vertical-align: middle;\n",
       "    }\n",
       "\n",
       "    .dataframe tbody tr th {\n",
       "        vertical-align: top;\n",
       "    }\n",
       "\n",
       "    .dataframe thead th {\n",
       "        text-align: right;\n",
       "    }\n",
       "</style>\n",
       "<table border=\"1\" class=\"dataframe\">\n",
       "  <thead>\n",
       "    <tr style=\"text-align: right;\">\n",
       "      <th>4</th>\n",
       "      <th>YEAR</th>\n",
       "      <th>MONTH</th>\n",
       "      <th>U.S._STATE</th>\n",
       "      <th>POSTAL.CODE</th>\n",
       "      <th>NERC.REGION</th>\n",
       "      <th>CLIMATE.REGION</th>\n",
       "      <th>ANOMALY.LEVEL</th>\n",
       "      <th>CLIMATE.CATEGORY</th>\n",
       "      <th>CAUSE.CATEGORY</th>\n",
       "      <th>CAUSE.CATEGORY.DETAIL</th>\n",
       "      <th>...</th>\n",
       "      <th>POPDEN_URBAN</th>\n",
       "      <th>POPDEN_UC</th>\n",
       "      <th>POPDEN_RURAL</th>\n",
       "      <th>AREAPCT_URBAN</th>\n",
       "      <th>AREAPCT_UC</th>\n",
       "      <th>PCT_LAND</th>\n",
       "      <th>PCT_WATER_TOT</th>\n",
       "      <th>PCT_WATER_INLAND</th>\n",
       "      <th>OUTAGE.START</th>\n",
       "      <th>OUTAGE.RESTORATION</th>\n",
       "    </tr>\n",
       "    <tr>\n",
       "      <th>OBS</th>\n",
       "      <th></th>\n",
       "      <th></th>\n",
       "      <th></th>\n",
       "      <th></th>\n",
       "      <th></th>\n",
       "      <th></th>\n",
       "      <th></th>\n",
       "      <th></th>\n",
       "      <th></th>\n",
       "      <th></th>\n",
       "      <th></th>\n",
       "      <th></th>\n",
       "      <th></th>\n",
       "      <th></th>\n",
       "      <th></th>\n",
       "      <th></th>\n",
       "      <th></th>\n",
       "      <th></th>\n",
       "      <th></th>\n",
       "      <th></th>\n",
       "      <th></th>\n",
       "    </tr>\n",
       "  </thead>\n",
       "  <tbody>\n",
       "    <tr>\n",
       "      <th>1</th>\n",
       "      <td>2011</td>\n",
       "      <td>7</td>\n",
       "      <td>Minnesota</td>\n",
       "      <td>MN</td>\n",
       "      <td>MRO</td>\n",
       "      <td>East North Central</td>\n",
       "      <td>-0.3</td>\n",
       "      <td>normal</td>\n",
       "      <td>severe weather</td>\n",
       "      <td>NaN</td>\n",
       "      <td>...</td>\n",
       "      <td>2279.0</td>\n",
       "      <td>1700.5</td>\n",
       "      <td>18.2</td>\n",
       "      <td>2.14</td>\n",
       "      <td>0.6</td>\n",
       "      <td>91.592666</td>\n",
       "      <td>8.407334</td>\n",
       "      <td>5.478743</td>\n",
       "      <td>2011-07-01 17:00:00</td>\n",
       "      <td>2011-07-03 20:00:00</td>\n",
       "    </tr>\n",
       "    <tr>\n",
       "      <th>2</th>\n",
       "      <td>2014</td>\n",
       "      <td>5</td>\n",
       "      <td>Minnesota</td>\n",
       "      <td>MN</td>\n",
       "      <td>MRO</td>\n",
       "      <td>East North Central</td>\n",
       "      <td>-0.1</td>\n",
       "      <td>normal</td>\n",
       "      <td>intentional attack</td>\n",
       "      <td>vandalism</td>\n",
       "      <td>...</td>\n",
       "      <td>2279.0</td>\n",
       "      <td>1700.5</td>\n",
       "      <td>18.2</td>\n",
       "      <td>2.14</td>\n",
       "      <td>0.6</td>\n",
       "      <td>91.592666</td>\n",
       "      <td>8.407334</td>\n",
       "      <td>5.478743</td>\n",
       "      <td>2014-05-11 18:38:00</td>\n",
       "      <td>2014-05-11 18:39:00</td>\n",
       "    </tr>\n",
       "    <tr>\n",
       "      <th>3</th>\n",
       "      <td>2010</td>\n",
       "      <td>10</td>\n",
       "      <td>Minnesota</td>\n",
       "      <td>MN</td>\n",
       "      <td>MRO</td>\n",
       "      <td>East North Central</td>\n",
       "      <td>-1.5</td>\n",
       "      <td>cold</td>\n",
       "      <td>severe weather</td>\n",
       "      <td>heavy wind</td>\n",
       "      <td>...</td>\n",
       "      <td>2279.0</td>\n",
       "      <td>1700.5</td>\n",
       "      <td>18.2</td>\n",
       "      <td>2.14</td>\n",
       "      <td>0.6</td>\n",
       "      <td>91.592666</td>\n",
       "      <td>8.407334</td>\n",
       "      <td>5.478743</td>\n",
       "      <td>2010-10-26 20:00:00</td>\n",
       "      <td>2010-10-28 22:00:00</td>\n",
       "    </tr>\n",
       "    <tr>\n",
       "      <th>4</th>\n",
       "      <td>2012</td>\n",
       "      <td>6</td>\n",
       "      <td>Minnesota</td>\n",
       "      <td>MN</td>\n",
       "      <td>MRO</td>\n",
       "      <td>East North Central</td>\n",
       "      <td>-0.1</td>\n",
       "      <td>normal</td>\n",
       "      <td>severe weather</td>\n",
       "      <td>thunderstorm</td>\n",
       "      <td>...</td>\n",
       "      <td>2279.0</td>\n",
       "      <td>1700.5</td>\n",
       "      <td>18.2</td>\n",
       "      <td>2.14</td>\n",
       "      <td>0.6</td>\n",
       "      <td>91.592666</td>\n",
       "      <td>8.407334</td>\n",
       "      <td>5.478743</td>\n",
       "      <td>2012-06-19 04:30:00</td>\n",
       "      <td>2012-06-20 23:00:00</td>\n",
       "    </tr>\n",
       "    <tr>\n",
       "      <th>5</th>\n",
       "      <td>2015</td>\n",
       "      <td>7</td>\n",
       "      <td>Minnesota</td>\n",
       "      <td>MN</td>\n",
       "      <td>MRO</td>\n",
       "      <td>East North Central</td>\n",
       "      <td>1.2</td>\n",
       "      <td>warm</td>\n",
       "      <td>severe weather</td>\n",
       "      <td>NaN</td>\n",
       "      <td>...</td>\n",
       "      <td>2279.0</td>\n",
       "      <td>1700.5</td>\n",
       "      <td>18.2</td>\n",
       "      <td>2.14</td>\n",
       "      <td>0.6</td>\n",
       "      <td>91.592666</td>\n",
       "      <td>8.407334</td>\n",
       "      <td>5.478743</td>\n",
       "      <td>2015-07-18 02:00:00</td>\n",
       "      <td>2015-07-19 07:00:00</td>\n",
       "    </tr>\n",
       "    <tr>\n",
       "      <th>6</th>\n",
       "      <td>2010</td>\n",
       "      <td>11</td>\n",
       "      <td>Minnesota</td>\n",
       "      <td>MN</td>\n",
       "      <td>MRO</td>\n",
       "      <td>East North Central</td>\n",
       "      <td>-1.4</td>\n",
       "      <td>cold</td>\n",
       "      <td>severe weather</td>\n",
       "      <td>winter storm</td>\n",
       "      <td>...</td>\n",
       "      <td>2279.0</td>\n",
       "      <td>1700.5</td>\n",
       "      <td>18.2</td>\n",
       "      <td>2.14</td>\n",
       "      <td>0.6</td>\n",
       "      <td>91.592666</td>\n",
       "      <td>8.407334</td>\n",
       "      <td>5.478743</td>\n",
       "      <td>2010-11-13 15:00:00</td>\n",
       "      <td>2010-11-14 22:00:00</td>\n",
       "    </tr>\n",
       "    <tr>\n",
       "      <th>7</th>\n",
       "      <td>2010</td>\n",
       "      <td>7</td>\n",
       "      <td>Minnesota</td>\n",
       "      <td>MN</td>\n",
       "      <td>MRO</td>\n",
       "      <td>East North Central</td>\n",
       "      <td>-0.9</td>\n",
       "      <td>cold</td>\n",
       "      <td>severe weather</td>\n",
       "      <td>tornadoes</td>\n",
       "      <td>...</td>\n",
       "      <td>2279.0</td>\n",
       "      <td>1700.5</td>\n",
       "      <td>18.2</td>\n",
       "      <td>2.14</td>\n",
       "      <td>0.6</td>\n",
       "      <td>91.592666</td>\n",
       "      <td>8.407334</td>\n",
       "      <td>5.478743</td>\n",
       "      <td>2010-07-17 20:30:00</td>\n",
       "      <td>2010-07-19 22:00:00</td>\n",
       "    </tr>\n",
       "    <tr>\n",
       "      <th>8</th>\n",
       "      <td>2005</td>\n",
       "      <td>6</td>\n",
       "      <td>Minnesota</td>\n",
       "      <td>MN</td>\n",
       "      <td>MRO</td>\n",
       "      <td>East North Central</td>\n",
       "      <td>0.2</td>\n",
       "      <td>normal</td>\n",
       "      <td>severe weather</td>\n",
       "      <td>thunderstorm</td>\n",
       "      <td>...</td>\n",
       "      <td>2279.0</td>\n",
       "      <td>1700.5</td>\n",
       "      <td>18.2</td>\n",
       "      <td>2.14</td>\n",
       "      <td>0.6</td>\n",
       "      <td>91.592666</td>\n",
       "      <td>8.407334</td>\n",
       "      <td>5.478743</td>\n",
       "      <td>2005-06-08 04:00:00</td>\n",
       "      <td>2005-06-10 22:00:00</td>\n",
       "    </tr>\n",
       "    <tr>\n",
       "      <th>9</th>\n",
       "      <td>2015</td>\n",
       "      <td>3</td>\n",
       "      <td>Minnesota</td>\n",
       "      <td>MN</td>\n",
       "      <td>MRO</td>\n",
       "      <td>East North Central</td>\n",
       "      <td>0.6</td>\n",
       "      <td>warm</td>\n",
       "      <td>intentional attack</td>\n",
       "      <td>sabotage</td>\n",
       "      <td>...</td>\n",
       "      <td>2279.0</td>\n",
       "      <td>1700.5</td>\n",
       "      <td>18.2</td>\n",
       "      <td>2.14</td>\n",
       "      <td>0.6</td>\n",
       "      <td>91.592666</td>\n",
       "      <td>8.407334</td>\n",
       "      <td>5.478743</td>\n",
       "      <td>2015-03-16 07:31:00</td>\n",
       "      <td>2015-03-16 10:06:00</td>\n",
       "    </tr>\n",
       "    <tr>\n",
       "      <th>10</th>\n",
       "      <td>2013</td>\n",
       "      <td>6</td>\n",
       "      <td>Minnesota</td>\n",
       "      <td>MN</td>\n",
       "      <td>MRO</td>\n",
       "      <td>East North Central</td>\n",
       "      <td>-0.2</td>\n",
       "      <td>normal</td>\n",
       "      <td>severe weather</td>\n",
       "      <td>hailstorm</td>\n",
       "      <td>...</td>\n",
       "      <td>2279.0</td>\n",
       "      <td>1700.5</td>\n",
       "      <td>18.2</td>\n",
       "      <td>2.14</td>\n",
       "      <td>0.6</td>\n",
       "      <td>91.592666</td>\n",
       "      <td>8.407334</td>\n",
       "      <td>5.478743</td>\n",
       "      <td>2013-06-21 17:39:00</td>\n",
       "      <td>2013-06-24 06:00:00</td>\n",
       "    </tr>\n",
       "  </tbody>\n",
       "</table>\n",
       "<p>10 rows × 53 columns</p>\n",
       "</div>"
      ],
      "text/plain": [
       "4    YEAR MONTH U.S._STATE POSTAL.CODE NERC.REGION      CLIMATE.REGION  \\\n",
       "OBS                                                                      \n",
       "1    2011     7  Minnesota          MN         MRO  East North Central   \n",
       "2    2014     5  Minnesota          MN         MRO  East North Central   \n",
       "3    2010    10  Minnesota          MN         MRO  East North Central   \n",
       "4    2012     6  Minnesota          MN         MRO  East North Central   \n",
       "5    2015     7  Minnesota          MN         MRO  East North Central   \n",
       "6    2010    11  Minnesota          MN         MRO  East North Central   \n",
       "7    2010     7  Minnesota          MN         MRO  East North Central   \n",
       "8    2005     6  Minnesota          MN         MRO  East North Central   \n",
       "9    2015     3  Minnesota          MN         MRO  East North Central   \n",
       "10   2013     6  Minnesota          MN         MRO  East North Central   \n",
       "\n",
       "4    ANOMALY.LEVEL CLIMATE.CATEGORY      CAUSE.CATEGORY CAUSE.CATEGORY.DETAIL  \\\n",
       "OBS                                                                             \n",
       "1             -0.3           normal      severe weather                   NaN   \n",
       "2             -0.1           normal  intentional attack             vandalism   \n",
       "3             -1.5             cold      severe weather            heavy wind   \n",
       "4             -0.1           normal      severe weather          thunderstorm   \n",
       "5              1.2             warm      severe weather                   NaN   \n",
       "6             -1.4             cold      severe weather          winter storm   \n",
       "7             -0.9             cold      severe weather             tornadoes   \n",
       "8              0.2           normal      severe weather          thunderstorm   \n",
       "9              0.6             warm  intentional attack              sabotage   \n",
       "10            -0.2           normal      severe weather             hailstorm   \n",
       "\n",
       "4    ... POPDEN_URBAN  POPDEN_UC  POPDEN_RURAL  AREAPCT_URBAN  AREAPCT_UC  \\\n",
       "OBS  ...                                                                    \n",
       "1    ...       2279.0     1700.5          18.2           2.14         0.6   \n",
       "2    ...       2279.0     1700.5          18.2           2.14         0.6   \n",
       "3    ...       2279.0     1700.5          18.2           2.14         0.6   \n",
       "4    ...       2279.0     1700.5          18.2           2.14         0.6   \n",
       "5    ...       2279.0     1700.5          18.2           2.14         0.6   \n",
       "6    ...       2279.0     1700.5          18.2           2.14         0.6   \n",
       "7    ...       2279.0     1700.5          18.2           2.14         0.6   \n",
       "8    ...       2279.0     1700.5          18.2           2.14         0.6   \n",
       "9    ...       2279.0     1700.5          18.2           2.14         0.6   \n",
       "10   ...       2279.0     1700.5          18.2           2.14         0.6   \n",
       "\n",
       "4     PCT_LAND  PCT_WATER_TOT  PCT_WATER_INLAND        OUTAGE.START  \\\n",
       "OBS                                                                   \n",
       "1    91.592666       8.407334          5.478743 2011-07-01 17:00:00   \n",
       "2    91.592666       8.407334          5.478743 2014-05-11 18:38:00   \n",
       "3    91.592666       8.407334          5.478743 2010-10-26 20:00:00   \n",
       "4    91.592666       8.407334          5.478743 2012-06-19 04:30:00   \n",
       "5    91.592666       8.407334          5.478743 2015-07-18 02:00:00   \n",
       "6    91.592666       8.407334          5.478743 2010-11-13 15:00:00   \n",
       "7    91.592666       8.407334          5.478743 2010-07-17 20:30:00   \n",
       "8    91.592666       8.407334          5.478743 2005-06-08 04:00:00   \n",
       "9    91.592666       8.407334          5.478743 2015-03-16 07:31:00   \n",
       "10   91.592666       8.407334          5.478743 2013-06-21 17:39:00   \n",
       "\n",
       "4    OUTAGE.RESTORATION  \n",
       "OBS                      \n",
       "1   2011-07-03 20:00:00  \n",
       "2   2014-05-11 18:39:00  \n",
       "3   2010-10-28 22:00:00  \n",
       "4   2012-06-20 23:00:00  \n",
       "5   2015-07-19 07:00:00  \n",
       "6   2010-11-14 22:00:00  \n",
       "7   2010-07-19 22:00:00  \n",
       "8   2005-06-10 22:00:00  \n",
       "9   2015-03-16 10:06:00  \n",
       "10  2013-06-24 06:00:00  \n",
       "\n",
       "[10 rows x 53 columns]"
      ]
     },
     "execution_count": 3,
     "metadata": {},
     "output_type": "execute_result"
    }
   ],
   "source": [
    "# Get all the variables\n",
    "variables = df.loc[4]\n",
    "# Set the column names to variables\n",
    "df.columns = variables\n",
    "# Extract the units for the variables\n",
    "units = df.loc[5].values[1:]\n",
    "# Drop the useless columns \n",
    "df = df.drop([0, 1, 2, 3, 4, 5])\n",
    "df = df.drop(columns = 'variables')\n",
    "# Reset the index\n",
    "df = df.set_index('OBS')\n",
    "\n",
    "# Combine OUTAGE START DATE and OUTAGE START TIME to one column\n",
    "df['OUTAGE.START'] = pd.to_datetime(df['OUTAGE.START.DATE'].apply(lambda x: str(x)) + \" \" + df['OUTAGE.START.TIME'].apply(lambda x: str(x)), errors='coerce')\n",
    "# Combine OUTAGE RESTORATION DATE and OUTAGE RESTORATION TIME to one column\n",
    "df['OUTAGE.RESTORATION'] = pd.to_datetime(df['OUTAGE.RESTORATION.DATE'].apply(lambda x: str(x)) + \" \" + df['OUTAGE.RESTORATION.TIME'].apply(lambda x: str(x)), errors='coerce')\n",
    "\n",
    "# Drop the orginial columns \n",
    "df = df.drop(columns = ['OUTAGE.START.DATE', 'OUTAGE.START.TIME', 'OUTAGE.RESTORATION.DATE','OUTAGE.RESTORATION.TIME' ])\n",
    "# Convert all numerical features to float\n",
    "for col in df.columns:\n",
    "    if col not in ['YEAR', 'MONTH', 'U.S._STATE', 'POSTAL.CODE', 'NERC.REGION','CLIMATE.REGION', 'CLIMATE.CATEGORY', 'CAUSE.CATEGORY',\n",
    "                   'CAUSE.CATEGORY.DETAIL', 'HURRICANE.NAMES','OUTAGE.START','OUTAGE.RESTORATION']:\n",
    "        df[col] = df[col].astype(float)\n",
    "df.head(10)\n",
    "\n"
   ]
  },
  {
   "cell_type": "markdown",
   "metadata": {},
   "source": [
    "### Baseline Model"
   ]
  },
  {
   "cell_type": "code",
   "execution_count": 4,
   "metadata": {},
   "outputs": [
    {
     "data": {
      "text/plain": [
       "70135.0"
      ]
     },
     "execution_count": 4,
     "metadata": {},
     "output_type": "execute_result"
    }
   ],
   "source": [
    "# Drop the rows with nan values in CUSTOMERS.AFFECTED\n",
    "df = df.dropna(subset = ['CUSTOMERS.AFFECTED'])\n",
    "# Get the median of CUSTOMERS.AFFECTED\n",
    "cusaff_median = df['CUSTOMERS.AFFECTED'].median()\n",
    "cusaff_median"
   ]
  },
  {
   "cell_type": "code",
   "execution_count": 5,
   "metadata": {},
   "outputs": [
    {
     "data": {
      "text/html": [
       "<div>\n",
       "<style scoped>\n",
       "    .dataframe tbody tr th:only-of-type {\n",
       "        vertical-align: middle;\n",
       "    }\n",
       "\n",
       "    .dataframe tbody tr th {\n",
       "        vertical-align: top;\n",
       "    }\n",
       "\n",
       "    .dataframe thead th {\n",
       "        text-align: right;\n",
       "    }\n",
       "</style>\n",
       "<table border=\"1\" class=\"dataframe\">\n",
       "  <thead>\n",
       "    <tr style=\"text-align: right;\">\n",
       "      <th>4</th>\n",
       "      <th>CUSTOMERS.AFFECTED</th>\n",
       "      <th>Outcome</th>\n",
       "    </tr>\n",
       "    <tr>\n",
       "      <th>OBS</th>\n",
       "      <th></th>\n",
       "      <th></th>\n",
       "    </tr>\n",
       "  </thead>\n",
       "  <tbody>\n",
       "    <tr>\n",
       "      <th>1</th>\n",
       "      <td>70000.0</td>\n",
       "      <td>0.0</td>\n",
       "    </tr>\n",
       "    <tr>\n",
       "      <th>3</th>\n",
       "      <td>70000.0</td>\n",
       "      <td>0.0</td>\n",
       "    </tr>\n",
       "    <tr>\n",
       "      <th>4</th>\n",
       "      <td>68200.0</td>\n",
       "      <td>0.0</td>\n",
       "    </tr>\n",
       "    <tr>\n",
       "      <th>5</th>\n",
       "      <td>250000.0</td>\n",
       "      <td>1.0</td>\n",
       "    </tr>\n",
       "    <tr>\n",
       "      <th>6</th>\n",
       "      <td>60000.0</td>\n",
       "      <td>0.0</td>\n",
       "    </tr>\n",
       "  </tbody>\n",
       "</table>\n",
       "</div>"
      ],
      "text/plain": [
       "4    CUSTOMERS.AFFECTED  Outcome\n",
       "OBS                             \n",
       "1               70000.0      0.0\n",
       "3               70000.0      0.0\n",
       "4               68200.0      0.0\n",
       "5              250000.0      1.0\n",
       "6               60000.0      0.0"
      ]
     },
     "execution_count": 5,
     "metadata": {},
     "output_type": "execute_result"
    }
   ],
   "source": [
    "# Create a binarizer\n",
    "transformer = Binarizer(threshold = cusaff_median).fit(df[['CUSTOMERS.AFFECTED']])\n",
    "# Create outcomes based on data\n",
    "outcomes = transformer.transform(df[['CUSTOMERS.AFFECTED']])\n",
    "# Adding outcomes to our dataframe\n",
    "df['Outcome'] = outcomes\n",
    "df[['CUSTOMERS.AFFECTED','Outcome']].head()"
   ]
  },
  {
   "cell_type": "markdown",
   "metadata": {},
   "source": [
    "Determine which features to drop"
   ]
  },
  {
   "cell_type": "code",
   "execution_count": 6,
   "metadata": {},
   "outputs": [
    {
     "data": {
      "text/plain": [
       "4\n",
       "YEAR                        0\n",
       "MONTH                       7\n",
       "U.S._STATE                  0\n",
       "POSTAL.CODE                 0\n",
       "NERC.REGION                 0\n",
       "CLIMATE.REGION              6\n",
       "ANOMALY.LEVEL               7\n",
       "CLIMATE.CATEGORY            7\n",
       "CAUSE.CATEGORY              0\n",
       "CAUSE.CATEGORY.DETAIL     321\n",
       "HURRICANE.NAMES          1020\n",
       "OUTAGE.DURATION            35\n",
       "DEMAND.LOSS.MW            378\n",
       "CUSTOMERS.AFFECTED          0\n",
       "RES.PRICE                  16\n",
       "COM.PRICE                  16\n",
       "IND.PRICE                  16\n",
       "TOTAL.PRICE                16\n",
       "RES.SALES                  16\n",
       "COM.SALES                  16\n",
       "IND.SALES                  16\n",
       "TOTAL.SALES                16\n",
       "RES.PERCEN                 16\n",
       "COM.PERCEN                 16\n",
       "IND.PERCEN                 16\n",
       "RES.CUSTOMERS               0\n",
       "COM.CUSTOMERS               0\n",
       "IND.CUSTOMERS               0\n",
       "TOTAL.CUSTOMERS             0\n",
       "RES.CUST.PCT                0\n",
       "COM.CUST.PCT                0\n",
       "IND.CUST.PCT                0\n",
       "PC.REALGSP.STATE            0\n",
       "PC.REALGSP.USA              0\n",
       "PC.REALGSP.REL              0\n",
       "PC.REALGSP.CHANGE           0\n",
       "UTIL.REALGSP                0\n",
       "TOTAL.REALGSP               0\n",
       "UTIL.CONTRI                 0\n",
       "PI.UTIL.OFUSA               0\n",
       "POPULATION                  0\n",
       "POPPCT_URBAN                0\n",
       "POPPCT_UC                   0\n",
       "POPDEN_URBAN                0\n",
       "POPDEN_UC                   9\n",
       "POPDEN_RURAL                9\n",
       "AREAPCT_URBAN               0\n",
       "AREAPCT_UC                  0\n",
       "PCT_LAND                    0\n",
       "PCT_WATER_TOT               0\n",
       "PCT_WATER_INLAND            0\n",
       "OUTAGE.START                7\n",
       "OUTAGE.RESTORATION         35\n",
       "Outcome                     0\n",
       "dtype: int64"
      ]
     },
     "execution_count": 6,
     "metadata": {},
     "output_type": "execute_result"
    }
   ],
   "source": [
    "df.isna().sum()"
   ]
  },
  {
   "cell_type": "markdown",
   "metadata": {},
   "source": [
    "We observed that features like HURRICANE.NAMES, CAUSE.CATEGORY.DETAIL, and DEMAND.LOSS.MW have more than 300 nan values which will not be sufficient if we included them into our prediction model. Thus we decided to drop these three features."
   ]
  },
  {
   "cell_type": "code",
   "execution_count": 7,
   "metadata": {},
   "outputs": [],
   "source": [
    "df = df.drop(columns = ['HURRICANE.NAMES', 'CAUSE.CATEGORY.DETAIL', 'DEMAND.LOSS.MW'])"
   ]
  },
  {
   "cell_type": "markdown",
   "metadata": {},
   "source": [
    "We first drop the nan values in the cleaned dataset. Then, keep the numerical features as original and apply one hot encoding to the categorical features. Later, we put the adjusted data into Column Transformer and Pipeline using the Decision Tree Classifier which gives us the test accuracy around 81% and test accuracy around 70%."
   ]
  },
  {
   "cell_type": "code",
   "execution_count": 8,
   "metadata": {},
   "outputs": [],
   "source": [
    "states = df[['U.S._STATE']] # store it for fairness test\n",
    "df = df.drop(columns = ['U.S._STATE','POSTAL.CODE'])"
   ]
  },
  {
   "cell_type": "markdown",
   "metadata": {},
   "source": [
    "Then, we dropped the 'U.S._STATE','POSTAL.CODE' because they can cause overfitting."
   ]
  },
  {
   "cell_type": "code",
   "execution_count": 9,
   "metadata": {},
   "outputs": [
    {
     "data": {
      "text/plain": [
       "(0.7952973720608575, 0.7774193548387097)"
      ]
     },
     "execution_count": 9,
     "metadata": {},
     "output_type": "execute_result"
    }
   ],
   "source": [
    "# Drop all the remain nans in the dataset\n",
    "df = df.dropna()\n",
    "# do a training test split\n",
    "X = df.drop('Outcome', axis=1)\n",
    "y = df['Outcome']\n",
    "\n",
    "X_train, X_test, y_train, y_test = train_test_split(X, y, test_size=0.3)\n",
    "steps = []\n",
    "for col in df.columns:\n",
    "    data_type = type(df[col].iloc[0])\n",
    "    if data_type == str:\n",
    "        steps.append((col,OneHotEncoder(handle_unknown='ignore'),[col]))\n",
    "\n",
    "col_t = ('col_trans',ColumnTransformer(steps))\n",
    "pl = Pipeline([col_t,('tree', DecisionTreeClassifier())])\n",
    "\n",
    "pl.fit(X_train, y_train)\n",
    "train_accuracy = pl.score(X_train, y_train)\n",
    "test_accuracy = pl.score(X_test, y_test)\n",
    "train_accuracy, test_accuracy"
   ]
  },
  {
   "cell_type": "code",
   "execution_count": 10,
   "metadata": {},
   "outputs": [
    {
     "data": {
      "text/plain": [
       "{'YEAR': 0.021493861992407413,\n",
       " 'MONTH': 0.0026589426547469746,\n",
       " 'NERC.REGION': 0.0019777783844083224,\n",
       " 'CLIMATE.REGION': 0.0053292390248046865,\n",
       " 'ANOMALY.LEVEL': 0.01380334717722106,\n",
       " 'CLIMATE.CATEGORY': 0.0013878758449366634,\n",
       " 'CAUSE.CATEGORY': 0.006317092815695659,\n",
       " 'OUTAGE.DURATION': 0.018600511000488103,\n",
       " 'CUSTOMERS.AFFECTED': 0.030516488508534334,\n",
       " 'RES.PRICE': 0.010217931634138103,\n",
       " 'COM.PRICE': 0.000482919512603008,\n",
       " 'IND.PRICE': 0.0008040340633821298,\n",
       " 'TOTAL.PRICE': 0.0004308654790377484,\n",
       " 'RES.SALES': 0.032394230341881394,\n",
       " 'COM.SALES': 0.050582154775962423,\n",
       " 'IND.SALES': 0.012421457428427526,\n",
       " 'TOTAL.SALES': 0.0025294640464627012,\n",
       " 'RES.PERCEN': 0.01881117293062696,\n",
       " 'COM.PERCEN': 0.01897297677406876,\n",
       " 'IND.PERCEN': 0.032796558290122055,\n",
       " 'RES.CUSTOMERS': 0.006642770563232548,\n",
       " 'COM.CUSTOMERS': 0.030870811742769805,\n",
       " 'IND.CUSTOMERS': 0.0,\n",
       " 'TOTAL.CUSTOMERS': 0.0007195160394161869,\n",
       " 'RES.CUST.PCT': 0.0,\n",
       " 'COM.CUST.PCT': 0.0,\n",
       " 'IND.CUST.PCT': 0.5353698339323887,\n",
       " 'PC.REALGSP.STATE': 0.14386816504223676}"
      ]
     },
     "execution_count": 10,
     "metadata": {},
     "output_type": "execute_result"
    }
   ],
   "source": [
    "# look at the importance of each feature in our tree model\n",
    "# _: attributes created when model is fit. Contains info that it learned from the data\n",
    "tree = pl['tree']\n",
    "dict(zip(df.drop('Outcome', axis=1).columns, tree.feature_importances_))"
   ]
  },
  {
   "cell_type": "markdown",
   "metadata": {},
   "source": [
    "The baseline model has max tree depth around 13 - 17 and 150- 170 nodes."
   ]
  },
  {
   "cell_type": "code",
   "execution_count": 11,
   "metadata": {},
   "outputs": [
    {
     "name": "stdout",
     "output_type": "stream",
     "text": [
      "Max tree depth:\n",
      "14\n",
      "Number of nodes:\n",
      "163\n"
     ]
    }
   ],
   "source": [
    "# maximum depth\n",
    "print(\"Max tree depth:\")\n",
    "print(tree.tree_.max_depth)\n",
    "# node count\n",
    "print(\"Number of nodes:\")\n",
    "print(tree.tree_.node_count)"
   ]
  },
  {
   "cell_type": "markdown",
   "metadata": {},
   "source": [
    "### Final Model"
   ]
  },
  {
   "cell_type": "markdown",
   "metadata": {},
   "source": [
    "POPULATION is impactful when predicting our model. As we can see from the histogram, population that is in between quantile 1 and quantile 3 usually have a higher chance to encounter serious outrage. This is reasonable since we define the seriousness of the outage using the customers that were being affected.Therefore, we can generalize our model to make better predicitions if we categorize POUPLATION to different category instead of being extra specific on listing out the population. We used the quatiles of population as thresholds to determine if the population is Very_Little_People, Little_People, Many_People or Very_Many_People. After running the model with this new feature again, we obtain the test accuracy around 83% and test accuracy around 72%"
   ]
  },
  {
   "cell_type": "code",
   "execution_count": 12,
   "metadata": {},
   "outputs": [
    {
     "data": {
      "text/plain": [
       "<AxesSubplot:xlabel='POPULATION', ylabel='Count'>"
      ]
     },
     "execution_count": 12,
     "metadata": {},
     "output_type": "execute_result"
    },
    {
     "data": {
      "image/png": "[encoded data removed]",
      "text/plain": [
       "<Figure size 432x288 with 1 Axes>"
      ]
     },
     "metadata": {
      "image/png": {
       "height": 261,
       "width": 388
      },
      "needs_background": "light"
     },
     "output_type": "display_data"
    }
   ],
   "source": [
    "sns.histplot(data=df, x=\"POPULATION\", hue=\"Outcome\")"
   ]
  },
  {
   "cell_type": "code",
   "execution_count": 13,
   "metadata": {},
   "outputs": [
    {
     "data": {
      "text/plain": [
       "Index(['YEAR', 'MONTH', 'NERC.REGION', 'CLIMATE.REGION', 'ANOMALY.LEVEL',\n",
       "       'CLIMATE.CATEGORY', 'CAUSE.CATEGORY', 'OUTAGE.DURATION',\n",
       "       'CUSTOMERS.AFFECTED', 'RES.PRICE', 'COM.PRICE', 'IND.PRICE',\n",
       "       'TOTAL.PRICE', 'RES.SALES', 'COM.SALES', 'IND.SALES', 'TOTAL.SALES',\n",
       "       'RES.PERCEN', 'COM.PERCEN', 'IND.PERCEN', 'RES.CUSTOMERS',\n",
       "       'COM.CUSTOMERS', 'IND.CUSTOMERS', 'TOTAL.CUSTOMERS', 'RES.CUST.PCT',\n",
       "       'COM.CUST.PCT', 'IND.CUST.PCT', 'PC.REALGSP.STATE', 'PC.REALGSP.USA',\n",
       "       'PC.REALGSP.REL', 'PC.REALGSP.CHANGE', 'UTIL.REALGSP', 'TOTAL.REALGSP',\n",
       "       'UTIL.CONTRI', 'PI.UTIL.OFUSA', 'POPULATION', 'POPPCT_URBAN',\n",
       "       'POPPCT_UC', 'POPDEN_URBAN', 'POPDEN_UC', 'POPDEN_RURAL',\n",
       "       'AREAPCT_URBAN', 'AREAPCT_UC', 'PCT_LAND', 'PCT_WATER_TOT',\n",
       "       'PCT_WATER_INLAND', 'OUTAGE.START', 'OUTAGE.RESTORATION', 'Outcome'],\n",
       "      dtype='object', name=4)"
      ]
     },
     "execution_count": 13,
     "metadata": {},
     "output_type": "execute_result"
    }
   ],
   "source": [
    "df.columns"
   ]
  },
  {
   "cell_type": "code",
   "execution_count": 14,
   "metadata": {},
   "outputs": [
    {
     "data": {
      "text/plain": [
       "(0.8271092669432918, 0.7419354838709677)"
      ]
     },
     "execution_count": 14,
     "metadata": {},
     "output_type": "execute_result"
    }
   ],
   "source": [
    "Q1 = df['POPULATION'].quantile(q = 0.25)\n",
    "Q2 = df['POPULATION'].quantile(q = 0.5)\n",
    "Q3 = df['POPULATION'].quantile(q = 0.75)\n",
    "def convert(x):\n",
    "    if x <= Q1:\n",
    "        return \"Very_Little_People\"\n",
    "    elif x <= Q2:\n",
    "        return \"Little_People\"\n",
    "    elif x <= Q3:\n",
    "        return \"Many_People\"\n",
    "    else:\n",
    "        return \"Very_Many_People\"\n",
    "df['POPULATION'] = df['POPULATION'].apply(convert)\n",
    "# do a training test split\n",
    "X = df.drop('Outcome', axis=1)\n",
    "y = df['Outcome']\n",
    "\n",
    "X_train, X_test, y_train, y_test = train_test_split(X, y, test_size=0.3)\n",
    "steps = []\n",
    "for col in df.columns:\n",
    "    data_type = type(df[col].iloc[0])\n",
    "    if data_type == str:\n",
    "        steps.append((col,OneHotEncoder(handle_unknown='ignore'),[col]))\n",
    "\n",
    "col_t = ('col_trans',ColumnTransformer(steps))\n",
    "pl = Pipeline([col_t,('tree', DecisionTreeClassifier())])\n",
    "\n",
    "pl.fit(X_train, y_train)\n",
    "train_accuracy = pl.score(X_train, y_train)\n",
    "test_accuracy = pl.score(X_test, y_test)\n",
    "train_accuracy, test_accuracy"
   ]
  },
  {
   "cell_type": "markdown",
   "metadata": {},
   "source": [
    "From baseline model, we identify the feature 'IND.CUST.PCTA' as one of the most impactful feature when predicting our outcomes. As we can see from the plot below, there is a skewness in the data with large values, thus, applying log transformation to this feature will make this feature more usable for our model. "
   ]
  },
  {
   "cell_type": "code",
   "execution_count": 15,
   "metadata": {
    "scrolled": true
   },
   "outputs": [
    {
     "data": {
      "text/plain": [
       "<AxesSubplot:xlabel='OBS'>"
      ]
     },
     "execution_count": 15,
     "metadata": {},
     "output_type": "execute_result"
    },
    {
     "data": {
      "image/png": "[encoded data removed]",
      "text/plain": [
       "<Figure size 432x288 with 1 Axes>"
      ]
     },
     "metadata": {
      "image/png": {
       "height": 261,
       "width": 383
      },
      "needs_background": "light"
     },
     "output_type": "display_data"
    }
   ],
   "source": [
    "df['IND.CUST.PCT'].plot()"
   ]
  },
  {
   "cell_type": "markdown",
   "metadata": {},
   "source": [
    "We can see a higher accuracy after applying log transformation to IND.CUST.PCT. The testing accuracy jumps from around 70% to 76% after we apply grid search to find the best parameters!"
   ]
  },
  {
   "cell_type": "code",
   "execution_count": 16,
   "metadata": {},
   "outputs": [
    {
     "data": {
      "text/plain": [
       "(0.9156293222683264, 0.7193548387096774)"
      ]
     },
     "execution_count": 16,
     "metadata": {},
     "output_type": "execute_result"
    }
   ],
   "source": [
    "# do a training test split\n",
    "X = df.drop('Outcome', axis=1)\n",
    "y = df['Outcome']\n",
    "\n",
    "X_train, X_test, y_train, y_test = train_test_split(X, y, test_size=0.3)\n",
    "steps = [('log_trans',FunctionTransformer(np.log),['IND.CUST.PCT'])]\n",
    "for col in df.columns:\n",
    "    data_type = type(df[col].iloc[0])\n",
    "    if data_type == str:\n",
    "        steps.append((col,OneHotEncoder(handle_unknown='ignore'),[col]))\n",
    "\n",
    "col_t = ('col_trans',ColumnTransformer(steps))\n",
    "pl = Pipeline([col_t,('tree', DecisionTreeClassifier())])\n",
    "\n",
    "pl.fit(X_train, y_train)\n",
    "train_accuracy = pl.score(X_train, y_train)\n",
    "test_accuracy = pl.score(X_test, y_test)\n",
    "train_accuracy, test_accuracy"
   ]
  },
  {
   "cell_type": "markdown",
   "metadata": {},
   "source": [
    "We then used gridsearch to avoid overfitting."
   ]
  },
  {
   "cell_type": "code",
   "execution_count": 17,
   "metadata": {},
   "outputs": [
    {
     "data": {
      "text/plain": [
       "{'tree__max_depth': 1}"
      ]
     },
     "execution_count": 17,
     "metadata": {},
     "output_type": "execute_result"
    }
   ],
   "source": [
    "parameter = {'tree__max_depth': [1,2,3,4,5,6,7,8,9,10,11,12,13,14,15,16,17,18,None]}\n",
    "clf = GridSearchCV(estimator=pl, param_grid=parameter, cv = 5)\n",
    "clf.fit(X_train, y_train)\n",
    "clf.best_params_"
   ]
  },
  {
   "cell_type": "code",
   "execution_count": 18,
   "metadata": {},
   "outputs": [
    {
     "data": {
      "text/plain": [
       "(0.7607758620689655, 0.7193548387096774)"
      ]
     },
     "execution_count": 18,
     "metadata": {},
     "output_type": "execute_result"
    }
   ],
   "source": [
    "test_accuracy = clf.score(X_test, y_test)\n",
    "clf.best_score_, test_accuracy"
   ]
  },
  {
   "cell_type": "markdown",
   "metadata": {},
   "source": [
    "### Fairness Evaluation"
   ]
  },
  {
   "cell_type": "markdown",
   "metadata": {},
   "source": [
    "In this section we want to check if our model is fair when evaluating the severity in coastal and inland states. (based on this [https://en.wikipedia.org/wiki/List_of_U.S._states_and_territories_by_coastline])\n",
    "\n",
    "- Null Hypothesis: our model is fair, as the precision for my two subsets are roughly the same\n",
    "- Alternative Hypothesis: our model is unfair, as the precision for the 'coastal' subset is different from the \"inland\" subset"
   ]
  },
  {
   "cell_type": "code",
   "execution_count": 19,
   "metadata": {},
   "outputs": [
    {
     "data": {
      "text/plain": [
       "0.7607192254495159"
      ]
     },
     "execution_count": 19,
     "metadata": {},
     "output_type": "execute_result"
    }
   ],
   "source": [
    "# accuracy\n",
    "clf.score(X_train,y_train)"
   ]
  },
  {
   "cell_type": "code",
   "execution_count": 20,
   "metadata": {},
   "outputs": [
    {
     "data": {
      "text/plain": [
       "array([[0.2516129 , 0.21935484],\n",
       "       [0.06129032, 0.46774194]])"
      ]
     },
     "execution_count": 20,
     "metadata": {},
     "output_type": "execute_result"
    }
   ],
   "source": [
    "# confusion matrix\n",
    "preds = clf.predict(X_test)\n",
    "metrics.confusion_matrix(y_test, preds) / len(preds)"
   ]
  },
  {
   "cell_type": "code",
   "execution_count": 21,
   "metadata": {},
   "outputs": [
    {
     "data": {
      "text/plain": [
       "0.8841463414634146"
      ]
     },
     "execution_count": 21,
     "metadata": {},
     "output_type": "execute_result"
    }
   ],
   "source": [
    "# Recall: proportion of the number of true severe outage events predicted \n",
    "# divided by all occurence of severe outages.\n",
    "\n",
    "metrics.recall_score(y_test, preds)"
   ]
  },
  {
   "cell_type": "code",
   "execution_count": 22,
   "metadata": {},
   "outputs": [
    {
     "data": {
      "text/plain": [
       "0.5342465753424658"
      ]
     },
     "execution_count": 22,
     "metadata": {},
     "output_type": "execute_result"
    }
   ],
   "source": [
    "# Specificity: proportion of non-servere outages that were correctly identified.\n",
    "\n",
    "metrics.recall_score(y_test, preds, pos_label=0)"
   ]
  },
  {
   "cell_type": "code",
   "execution_count": 23,
   "metadata": {},
   "outputs": [
    {
     "data": {
      "text/plain": [
       "0.6807511737089202"
      ]
     },
     "execution_count": 23,
     "metadata": {},
     "output_type": "execute_result"
    }
   ],
   "source": [
    "# Precision: proportion of predicted severe outages that were actually severe\n",
    "\n",
    "metrics.precision_score(y_test, preds)"
   ]
  },
  {
   "cell_type": "code",
   "execution_count": 24,
   "metadata": {},
   "outputs": [
    {
     "data": {
      "text/plain": [
       "0.31924882629107976"
      ]
     },
     "execution_count": 24,
     "metadata": {},
     "output_type": "execute_result"
    }
   ],
   "source": [
    "# FDR: proportion of predicted severe outages that are not severe\n",
    "\n",
    "1 - metrics.precision_score(y_test, preds)"
   ]
  },
  {
   "cell_type": "markdown",
   "metadata": {},
   "source": [
    "### Calculate Parity Measures\n",
    "\n",
    "* A = { coastal city = 'coastal' & inland city = 'inland'}\n",
    "* Y = severe outage (1.0) or non-severe outage (0.0)\n",
    "* C = did we predict it as severe (1.0) or not (0.0)"
   ]
  },
  {
   "cell_type": "code",
   "execution_count": 25,
   "metadata": {},
   "outputs": [
    {
     "data": {
      "text/plain": [
       "array(['Alabama', 'Alaska', 'Arizona', 'Arkansas', 'California',\n",
       "       'Colorado', 'Connecticut', 'Delaware', 'District of Columbia',\n",
       "       'Florida', 'Georgia', 'Hawaii', 'Idaho', 'Illinois', 'Indiana',\n",
       "       'Iowa', 'Kansas', 'Kentucky', 'Louisiana', 'Maine', 'Maryland',\n",
       "       'Massachusetts', 'Michigan', 'Minnesota', 'Mississippi',\n",
       "       'Missouri', 'Nebraska', 'Nevada', 'New Hampshire', 'New Jersey',\n",
       "       'New Mexico', 'New York', 'North Carolina', 'North Dakota', 'Ohio',\n",
       "       'Oklahoma', 'Oregon', 'Pennsylvania', 'South Carolina',\n",
       "       'Tennessee', 'Texas', 'Utah', 'Vermont', 'Virginia', 'Washington',\n",
       "       'West Virginia', 'Wisconsin', 'Wyoming'], dtype=object)"
      ]
     },
     "execution_count": 25,
     "metadata": {},
     "output_type": "execute_result"
    }
   ],
   "source": [
    "# get the U.s. State we have in the df\n",
    "results = pd.concat([df, states], axis=1) # concat df with states\n",
    "np.unique(results['U.S._STATE'])"
   ]
  },
  {
   "cell_type": "code",
   "execution_count": 26,
   "metadata": {},
   "outputs": [],
   "source": [
    "results['is_coastal'] = (results['U.S._STATE'].isin(['Alabama', 'Arkansas', 'California', \n",
    "       'Connecticut', 'Delaware', 'Florida', 'Georgia', \n",
    "       'Indiana', 'Louisiana', 'Maine', 'Maryland', 'Massachusetts', \n",
    "       'Mississippi', 'New Hampshire', 'New Jersey', 'New York', 'North Carolina',\n",
    "       'South Carolina', 'Texas', 'Virginia', 'Washington'])).replace({True:'coastal', False:'inland'})\n",
    "# drop states\n",
    "results = results.drop(columns = ['U.S._STATE'])"
   ]
  },
  {
   "cell_type": "code",
   "execution_count": 27,
   "metadata": {},
   "outputs": [
    {
     "data": {
      "text/plain": [
       "{'tree__max_depth': 4}"
      ]
     },
     "execution_count": 27,
     "metadata": {},
     "output_type": "execute_result"
    }
   ],
   "source": [
    "# Drop all the remain nans in the dataset\n",
    "results = results.dropna()\n",
    "\n",
    "# do a training test split\n",
    "X = results.drop('Outcome', axis=1)\n",
    "y = results['Outcome']\n",
    "\n",
    "X_train, X_test, y_train, y_test = train_test_split(X, y, test_size=0.3)\n",
    "steps = [('log_trans',FunctionTransformer(np.log),['IND.CUST.PCT'])]\n",
    "for col in results.columns:\n",
    "    data_type = type(results[col].iloc[0])\n",
    "    if data_type == str:\n",
    "        steps.append((col,OneHotEncoder(handle_unknown='ignore'),[col]))\n",
    "\n",
    "col_t = ('col_trans',ColumnTransformer(steps))\n",
    "pl = Pipeline([col_t,('tree', DecisionTreeClassifier())])\n",
    "\n",
    "parameter = {'tree__max_depth': [1,2,3,4,5,6,7,8,9,10,11,12,13,14,15,16,17,18,None]}\n",
    "clf = GridSearchCV(estimator=pl, param_grid=parameter, cv = 5)\n",
    "clf.fit(X_train, y_train)\n",
    "clf.best_params_"
   ]
  },
  {
   "cell_type": "code",
   "execution_count": 28,
   "metadata": {},
   "outputs": [
    {
     "data": {
      "text/html": [
       "<div>\n",
       "<style scoped>\n",
       "    .dataframe tbody tr th:only-of-type {\n",
       "        vertical-align: middle;\n",
       "    }\n",
       "\n",
       "    .dataframe tbody tr th {\n",
       "        vertical-align: top;\n",
       "    }\n",
       "\n",
       "    .dataframe thead th {\n",
       "        text-align: right;\n",
       "    }\n",
       "</style>\n",
       "<table border=\"1\" class=\"dataframe\">\n",
       "  <thead>\n",
       "    <tr style=\"text-align: right;\">\n",
       "      <th>4</th>\n",
       "      <th>YEAR</th>\n",
       "      <th>MONTH</th>\n",
       "      <th>NERC.REGION</th>\n",
       "      <th>CLIMATE.REGION</th>\n",
       "      <th>ANOMALY.LEVEL</th>\n",
       "      <th>CLIMATE.CATEGORY</th>\n",
       "      <th>CAUSE.CATEGORY</th>\n",
       "      <th>OUTAGE.DURATION</th>\n",
       "      <th>CUSTOMERS.AFFECTED</th>\n",
       "      <th>RES.PRICE</th>\n",
       "      <th>...</th>\n",
       "      <th>POPDEN_RURAL</th>\n",
       "      <th>AREAPCT_URBAN</th>\n",
       "      <th>AREAPCT_UC</th>\n",
       "      <th>PCT_LAND</th>\n",
       "      <th>PCT_WATER_TOT</th>\n",
       "      <th>PCT_WATER_INLAND</th>\n",
       "      <th>OUTAGE.START</th>\n",
       "      <th>OUTAGE.RESTORATION</th>\n",
       "      <th>Outcome</th>\n",
       "      <th>is_coastal</th>\n",
       "    </tr>\n",
       "    <tr>\n",
       "      <th>OBS</th>\n",
       "      <th></th>\n",
       "      <th></th>\n",
       "      <th></th>\n",
       "      <th></th>\n",
       "      <th></th>\n",
       "      <th></th>\n",
       "      <th></th>\n",
       "      <th></th>\n",
       "      <th></th>\n",
       "      <th></th>\n",
       "      <th></th>\n",
       "      <th></th>\n",
       "      <th></th>\n",
       "      <th></th>\n",
       "      <th></th>\n",
       "      <th></th>\n",
       "      <th></th>\n",
       "      <th></th>\n",
       "      <th></th>\n",
       "      <th></th>\n",
       "      <th></th>\n",
       "    </tr>\n",
       "  </thead>\n",
       "  <tbody>\n",
       "    <tr>\n",
       "      <th>1</th>\n",
       "      <td>2011</td>\n",
       "      <td>7</td>\n",
       "      <td>MRO</td>\n",
       "      <td>East North Central</td>\n",
       "      <td>-0.3</td>\n",
       "      <td>normal</td>\n",
       "      <td>severe weather</td>\n",
       "      <td>3060.0</td>\n",
       "      <td>70000.0</td>\n",
       "      <td>11.60</td>\n",
       "      <td>...</td>\n",
       "      <td>18.2</td>\n",
       "      <td>2.14</td>\n",
       "      <td>0.60</td>\n",
       "      <td>91.592666</td>\n",
       "      <td>8.407334</td>\n",
       "      <td>5.478743</td>\n",
       "      <td>2011-07-01 17:00:00</td>\n",
       "      <td>2011-07-03 20:00:00</td>\n",
       "      <td>0.0</td>\n",
       "      <td>inland</td>\n",
       "    </tr>\n",
       "    <tr>\n",
       "      <th>3</th>\n",
       "      <td>2010</td>\n",
       "      <td>10</td>\n",
       "      <td>MRO</td>\n",
       "      <td>East North Central</td>\n",
       "      <td>-1.5</td>\n",
       "      <td>cold</td>\n",
       "      <td>severe weather</td>\n",
       "      <td>3000.0</td>\n",
       "      <td>70000.0</td>\n",
       "      <td>10.87</td>\n",
       "      <td>...</td>\n",
       "      <td>18.2</td>\n",
       "      <td>2.14</td>\n",
       "      <td>0.60</td>\n",
       "      <td>91.592666</td>\n",
       "      <td>8.407334</td>\n",
       "      <td>5.478743</td>\n",
       "      <td>2010-10-26 20:00:00</td>\n",
       "      <td>2010-10-28 22:00:00</td>\n",
       "      <td>0.0</td>\n",
       "      <td>inland</td>\n",
       "    </tr>\n",
       "    <tr>\n",
       "      <th>4</th>\n",
       "      <td>2012</td>\n",
       "      <td>6</td>\n",
       "      <td>MRO</td>\n",
       "      <td>East North Central</td>\n",
       "      <td>-0.1</td>\n",
       "      <td>normal</td>\n",
       "      <td>severe weather</td>\n",
       "      <td>2550.0</td>\n",
       "      <td>68200.0</td>\n",
       "      <td>11.79</td>\n",
       "      <td>...</td>\n",
       "      <td>18.2</td>\n",
       "      <td>2.14</td>\n",
       "      <td>0.60</td>\n",
       "      <td>91.592666</td>\n",
       "      <td>8.407334</td>\n",
       "      <td>5.478743</td>\n",
       "      <td>2012-06-19 04:30:00</td>\n",
       "      <td>2012-06-20 23:00:00</td>\n",
       "      <td>0.0</td>\n",
       "      <td>inland</td>\n",
       "    </tr>\n",
       "    <tr>\n",
       "      <th>5</th>\n",
       "      <td>2015</td>\n",
       "      <td>7</td>\n",
       "      <td>MRO</td>\n",
       "      <td>East North Central</td>\n",
       "      <td>1.2</td>\n",
       "      <td>warm</td>\n",
       "      <td>severe weather</td>\n",
       "      <td>1740.0</td>\n",
       "      <td>250000.0</td>\n",
       "      <td>13.07</td>\n",
       "      <td>...</td>\n",
       "      <td>18.2</td>\n",
       "      <td>2.14</td>\n",
       "      <td>0.60</td>\n",
       "      <td>91.592666</td>\n",
       "      <td>8.407334</td>\n",
       "      <td>5.478743</td>\n",
       "      <td>2015-07-18 02:00:00</td>\n",
       "      <td>2015-07-19 07:00:00</td>\n",
       "      <td>1.0</td>\n",
       "      <td>inland</td>\n",
       "    </tr>\n",
       "    <tr>\n",
       "      <th>6</th>\n",
       "      <td>2010</td>\n",
       "      <td>11</td>\n",
       "      <td>MRO</td>\n",
       "      <td>East North Central</td>\n",
       "      <td>-1.4</td>\n",
       "      <td>cold</td>\n",
       "      <td>severe weather</td>\n",
       "      <td>1860.0</td>\n",
       "      <td>60000.0</td>\n",
       "      <td>10.63</td>\n",
       "      <td>...</td>\n",
       "      <td>18.2</td>\n",
       "      <td>2.14</td>\n",
       "      <td>0.60</td>\n",
       "      <td>91.592666</td>\n",
       "      <td>8.407334</td>\n",
       "      <td>5.478743</td>\n",
       "      <td>2010-11-13 15:00:00</td>\n",
       "      <td>2010-11-14 22:00:00</td>\n",
       "      <td>0.0</td>\n",
       "      <td>inland</td>\n",
       "    </tr>\n",
       "    <tr>\n",
       "      <th>...</th>\n",
       "      <td>...</td>\n",
       "      <td>...</td>\n",
       "      <td>...</td>\n",
       "      <td>...</td>\n",
       "      <td>...</td>\n",
       "      <td>...</td>\n",
       "      <td>...</td>\n",
       "      <td>...</td>\n",
       "      <td>...</td>\n",
       "      <td>...</td>\n",
       "      <td>...</td>\n",
       "      <td>...</td>\n",
       "      <td>...</td>\n",
       "      <td>...</td>\n",
       "      <td>...</td>\n",
       "      <td>...</td>\n",
       "      <td>...</td>\n",
       "      <td>...</td>\n",
       "      <td>...</td>\n",
       "      <td>...</td>\n",
       "      <td>...</td>\n",
       "    </tr>\n",
       "    <tr>\n",
       "      <th>1523</th>\n",
       "      <td>2004</td>\n",
       "      <td>6</td>\n",
       "      <td>WECC</td>\n",
       "      <td>Northwest</td>\n",
       "      <td>0.3</td>\n",
       "      <td>normal</td>\n",
       "      <td>system operability disruption</td>\n",
       "      <td>95.0</td>\n",
       "      <td>35000.0</td>\n",
       "      <td>6.69</td>\n",
       "      <td>...</td>\n",
       "      <td>5.6</td>\n",
       "      <td>0.60</td>\n",
       "      <td>0.19</td>\n",
       "      <td>98.891934</td>\n",
       "      <td>1.108066</td>\n",
       "      <td>1.108066</td>\n",
       "      <td>2004-06-23 17:35:00</td>\n",
       "      <td>2004-06-23 19:10:00</td>\n",
       "      <td>0.0</td>\n",
       "      <td>inland</td>\n",
       "    </tr>\n",
       "    <tr>\n",
       "      <th>1524</th>\n",
       "      <td>2011</td>\n",
       "      <td>1</td>\n",
       "      <td>WECC</td>\n",
       "      <td>Northwest</td>\n",
       "      <td>-1.3</td>\n",
       "      <td>cold</td>\n",
       "      <td>intentional attack</td>\n",
       "      <td>360.0</td>\n",
       "      <td>0.0</td>\n",
       "      <td>7.82</td>\n",
       "      <td>...</td>\n",
       "      <td>5.6</td>\n",
       "      <td>0.60</td>\n",
       "      <td>0.19</td>\n",
       "      <td>98.891934</td>\n",
       "      <td>1.108066</td>\n",
       "      <td>1.108066</td>\n",
       "      <td>2011-01-23 07:00:00</td>\n",
       "      <td>2011-01-23 13:00:00</td>\n",
       "      <td>0.0</td>\n",
       "      <td>inland</td>\n",
       "    </tr>\n",
       "    <tr>\n",
       "      <th>1525</th>\n",
       "      <td>2003</td>\n",
       "      <td>6</td>\n",
       "      <td>WECC</td>\n",
       "      <td>Northwest</td>\n",
       "      <td>-0.1</td>\n",
       "      <td>normal</td>\n",
       "      <td>public appeal</td>\n",
       "      <td>1548.0</td>\n",
       "      <td>0.0</td>\n",
       "      <td>6.31</td>\n",
       "      <td>...</td>\n",
       "      <td>5.6</td>\n",
       "      <td>0.60</td>\n",
       "      <td>0.19</td>\n",
       "      <td>98.891934</td>\n",
       "      <td>1.108066</td>\n",
       "      <td>1.108066</td>\n",
       "      <td>2003-06-15 15:12:00</td>\n",
       "      <td>2003-06-16 17:00:00</td>\n",
       "      <td>0.0</td>\n",
       "      <td>inland</td>\n",
       "    </tr>\n",
       "    <tr>\n",
       "      <th>1527</th>\n",
       "      <td>2016</td>\n",
       "      <td>3</td>\n",
       "      <td>WECC</td>\n",
       "      <td>Northwest</td>\n",
       "      <td>1.6</td>\n",
       "      <td>warm</td>\n",
       "      <td>intentional attack</td>\n",
       "      <td>0.0</td>\n",
       "      <td>0.0</td>\n",
       "      <td>9.80</td>\n",
       "      <td>...</td>\n",
       "      <td>5.6</td>\n",
       "      <td>0.60</td>\n",
       "      <td>0.19</td>\n",
       "      <td>98.891934</td>\n",
       "      <td>1.108066</td>\n",
       "      <td>1.108066</td>\n",
       "      <td>2016-03-08 00:00:00</td>\n",
       "      <td>2016-03-08 00:00:00</td>\n",
       "      <td>0.0</td>\n",
       "      <td>inland</td>\n",
       "    </tr>\n",
       "    <tr>\n",
       "      <th>1530</th>\n",
       "      <td>2011</td>\n",
       "      <td>12</td>\n",
       "      <td>MRO</td>\n",
       "      <td>West North Central</td>\n",
       "      <td>-0.9</td>\n",
       "      <td>cold</td>\n",
       "      <td>public appeal</td>\n",
       "      <td>720.0</td>\n",
       "      <td>34500.0</td>\n",
       "      <td>8.41</td>\n",
       "      <td>...</td>\n",
       "      <td>3.9</td>\n",
       "      <td>0.27</td>\n",
       "      <td>0.10</td>\n",
       "      <td>97.599649</td>\n",
       "      <td>2.401765</td>\n",
       "      <td>2.401765</td>\n",
       "      <td>2011-12-06 08:00:00</td>\n",
       "      <td>2011-12-06 20:00:00</td>\n",
       "      <td>0.0</td>\n",
       "      <td>inland</td>\n",
       "    </tr>\n",
       "  </tbody>\n",
       "</table>\n",
       "<p>1033 rows × 50 columns</p>\n",
       "</div>"
      ],
      "text/plain": [
       "4     YEAR MONTH NERC.REGION      CLIMATE.REGION  ANOMALY.LEVEL  \\\n",
       "OBS                                                               \n",
       "1     2011     7         MRO  East North Central           -0.3   \n",
       "3     2010    10         MRO  East North Central           -1.5   \n",
       "4     2012     6         MRO  East North Central           -0.1   \n",
       "5     2015     7         MRO  East North Central            1.2   \n",
       "6     2010    11         MRO  East North Central           -1.4   \n",
       "...    ...   ...         ...                 ...            ...   \n",
       "1523  2004     6        WECC           Northwest            0.3   \n",
       "1524  2011     1        WECC           Northwest           -1.3   \n",
       "1525  2003     6        WECC           Northwest           -0.1   \n",
       "1527  2016     3        WECC           Northwest            1.6   \n",
       "1530  2011    12         MRO  West North Central           -0.9   \n",
       "\n",
       "4    CLIMATE.CATEGORY                 CAUSE.CATEGORY  OUTAGE.DURATION  \\\n",
       "OBS                                                                     \n",
       "1              normal                 severe weather           3060.0   \n",
       "3                cold                 severe weather           3000.0   \n",
       "4              normal                 severe weather           2550.0   \n",
       "5                warm                 severe weather           1740.0   \n",
       "6                cold                 severe weather           1860.0   \n",
       "...               ...                            ...              ...   \n",
       "1523           normal  system operability disruption             95.0   \n",
       "1524             cold             intentional attack            360.0   \n",
       "1525           normal                  public appeal           1548.0   \n",
       "1527             warm             intentional attack              0.0   \n",
       "1530             cold                  public appeal            720.0   \n",
       "\n",
       "4     CUSTOMERS.AFFECTED  RES.PRICE  ...  POPDEN_RURAL  AREAPCT_URBAN  \\\n",
       "OBS                                  ...                                \n",
       "1                70000.0      11.60  ...          18.2           2.14   \n",
       "3                70000.0      10.87  ...          18.2           2.14   \n",
       "4                68200.0      11.79  ...          18.2           2.14   \n",
       "5               250000.0      13.07  ...          18.2           2.14   \n",
       "6                60000.0      10.63  ...          18.2           2.14   \n",
       "...                  ...        ...  ...           ...            ...   \n",
       "1523             35000.0       6.69  ...           5.6           0.60   \n",
       "1524                 0.0       7.82  ...           5.6           0.60   \n",
       "1525                 0.0       6.31  ...           5.6           0.60   \n",
       "1527                 0.0       9.80  ...           5.6           0.60   \n",
       "1530             34500.0       8.41  ...           3.9           0.27   \n",
       "\n",
       "4     AREAPCT_UC   PCT_LAND  PCT_WATER_TOT  PCT_WATER_INLAND  \\\n",
       "OBS                                                            \n",
       "1           0.60  91.592666       8.407334          5.478743   \n",
       "3           0.60  91.592666       8.407334          5.478743   \n",
       "4           0.60  91.592666       8.407334          5.478743   \n",
       "5           0.60  91.592666       8.407334          5.478743   \n",
       "6           0.60  91.592666       8.407334          5.478743   \n",
       "...          ...        ...            ...               ...   \n",
       "1523        0.19  98.891934       1.108066          1.108066   \n",
       "1524        0.19  98.891934       1.108066          1.108066   \n",
       "1525        0.19  98.891934       1.108066          1.108066   \n",
       "1527        0.19  98.891934       1.108066          1.108066   \n",
       "1530        0.10  97.599649       2.401765          2.401765   \n",
       "\n",
       "4           OUTAGE.START  OUTAGE.RESTORATION  Outcome  is_coastal  \n",
       "OBS                                                                \n",
       "1    2011-07-01 17:00:00 2011-07-03 20:00:00      0.0      inland  \n",
       "3    2010-10-26 20:00:00 2010-10-28 22:00:00      0.0      inland  \n",
       "4    2012-06-19 04:30:00 2012-06-20 23:00:00      0.0      inland  \n",
       "5    2015-07-18 02:00:00 2015-07-19 07:00:00      1.0      inland  \n",
       "6    2010-11-13 15:00:00 2010-11-14 22:00:00      0.0      inland  \n",
       "...                  ...                 ...      ...         ...  \n",
       "1523 2004-06-23 17:35:00 2004-06-23 19:10:00      0.0      inland  \n",
       "1524 2011-01-23 07:00:00 2011-01-23 13:00:00      0.0      inland  \n",
       "1525 2003-06-15 15:12:00 2003-06-16 17:00:00      0.0      inland  \n",
       "1527 2016-03-08 00:00:00 2016-03-08 00:00:00      0.0      inland  \n",
       "1530 2011-12-06 08:00:00 2011-12-06 20:00:00      0.0      inland  \n",
       "\n",
       "[1033 rows x 50 columns]"
      ]
     },
     "execution_count": 28,
     "metadata": {},
     "output_type": "execute_result"
    }
   ],
   "source": [
    "results"
   ]
  },
  {
   "cell_type": "code",
   "execution_count": 29,
   "metadata": {},
   "outputs": [
    {
     "name": "stderr",
     "output_type": "stream",
     "text": [
      "<ipython-input-29-62f2bea905ad>:6: SettingWithCopyWarning: \n",
      "A value is trying to be set on a copy of a slice from a DataFrame.\n",
      "Try using .loc[row_indexer,col_indexer] = value instead\n",
      "\n",
      "See the caveats in the documentation: https://pandas.pydata.org/pandas-docs/stable/user_guide/indexing.html#returning-a-view-versus-a-copy\n",
      "  results['prediction'] = preds\n",
      "<ipython-input-29-62f2bea905ad>:7: SettingWithCopyWarning: \n",
      "A value is trying to be set on a copy of a slice from a DataFrame.\n",
      "Try using .loc[row_indexer,col_indexer] = value instead\n",
      "\n",
      "See the caveats in the documentation: https://pandas.pydata.org/pandas-docs/stable/user_guide/indexing.html#returning-a-view-versus-a-copy\n",
      "  results['tag'] = y_test\n"
     ]
    },
    {
     "data": {
      "text/html": [
       "<div>\n",
       "<style scoped>\n",
       "    .dataframe tbody tr th:only-of-type {\n",
       "        vertical-align: middle;\n",
       "    }\n",
       "\n",
       "    .dataframe tbody tr th {\n",
       "        vertical-align: top;\n",
       "    }\n",
       "\n",
       "    .dataframe thead th {\n",
       "        text-align: right;\n",
       "    }\n",
       "</style>\n",
       "<table border=\"1\" class=\"dataframe\">\n",
       "  <thead>\n",
       "    <tr style=\"text-align: right;\">\n",
       "      <th></th>\n",
       "      <th>prediction</th>\n",
       "    </tr>\n",
       "    <tr>\n",
       "      <th>is_coastal</th>\n",
       "      <th></th>\n",
       "    </tr>\n",
       "  </thead>\n",
       "  <tbody>\n",
       "    <tr>\n",
       "      <th>coastal</th>\n",
       "      <td>0.583756</td>\n",
       "    </tr>\n",
       "    <tr>\n",
       "      <th>inland</th>\n",
       "      <td>0.628319</td>\n",
       "    </tr>\n",
       "  </tbody>\n",
       "</table>\n",
       "</div>"
      ],
      "text/plain": [
       "            prediction\n",
       "is_coastal            \n",
       "coastal       0.583756\n",
       "inland        0.628319"
      ]
     },
     "execution_count": 29,
     "metadata": {},
     "output_type": "execute_result"
    }
   ],
   "source": [
    "# Demographic Parity \n",
    "# Inland States have a better chance to encounter serious outage\n",
    "\n",
    "preds = clf.predict(X_test)\n",
    "results = X_test\n",
    "results['prediction'] = preds\n",
    "results['tag'] = y_test\n",
    "results.groupby('is_coastal').prediction.mean().to_frame()"
   ]
  },
  {
   "cell_type": "code",
   "execution_count": 30,
   "metadata": {},
   "outputs": [
    {
     "data": {
      "text/html": [
       "<div>\n",
       "<style scoped>\n",
       "    .dataframe tbody tr th:only-of-type {\n",
       "        vertical-align: middle;\n",
       "    }\n",
       "\n",
       "    .dataframe tbody tr th {\n",
       "        vertical-align: top;\n",
       "    }\n",
       "\n",
       "    .dataframe thead th {\n",
       "        text-align: right;\n",
       "    }\n",
       "</style>\n",
       "<table border=\"1\" class=\"dataframe\">\n",
       "  <thead>\n",
       "    <tr style=\"text-align: right;\">\n",
       "      <th></th>\n",
       "      <th>accuracy</th>\n",
       "    </tr>\n",
       "    <tr>\n",
       "      <th>is_coastal</th>\n",
       "      <th></th>\n",
       "    </tr>\n",
       "  </thead>\n",
       "  <tbody>\n",
       "    <tr>\n",
       "      <th>coastal</th>\n",
       "      <td>0.710660</td>\n",
       "    </tr>\n",
       "    <tr>\n",
       "      <th>inland</th>\n",
       "      <td>0.716814</td>\n",
       "    </tr>\n",
       "  </tbody>\n",
       "</table>\n",
       "</div>"
      ],
      "text/plain": [
       "            accuracy\n",
       "is_coastal          \n",
       "coastal     0.710660\n",
       "inland      0.716814"
      ]
     },
     "execution_count": 30,
     "metadata": {},
     "output_type": "execute_result"
    }
   ],
   "source": [
    "# Accuracy Parity\n",
    "\n",
    "(\n",
    "    results\n",
    "    .groupby('is_coastal')\n",
    "    .apply(lambda x: metrics.accuracy_score(x.tag, x.prediction))\n",
    "    .rename('accuracy')\n",
    "    .to_frame()\n",
    ")"
   ]
  },
  {
   "cell_type": "markdown",
   "metadata": {},
   "source": [
    "### Is this difference in accuracy significant?\n",
    "* Use a permutation test:\n",
    "    - are the distributions of severe outages \"the same\" for coastal/ inland groups?\n",
    "    - test-statistic: \"the same\" is measured in terms of different notions of parity. \n",
    "        - (using 'metrics.accuracy_score()' to obtain the difference in two prediction scores)\n",
    "* Set a significance level of 0.01"
   ]
  },
  {
   "cell_type": "code",
   "execution_count": 31,
   "metadata": {},
   "outputs": [],
   "source": [
    "obs = results.groupby('is_coastal').apply(lambda x: metrics.accuracy_score(x.tag, x.prediction)).diff().iloc[-1]\n",
    "\n",
    "metrs = []\n",
    "# permutate 1000 times\n",
    "for _ in range(100):\n",
    "    s = (\n",
    "        results[['is_coastal', 'prediction', 'tag']]\n",
    "        .assign(is_coastal=results.is_coastal.sample(frac=1.0, replace=False).reset_index(drop=True))\n",
    "        .groupby('is_coastal')\n",
    "        .apply(lambda x: metrics.accuracy_score(x.tag, x.prediction))\n",
    "        .diff()\n",
    "        .iloc[-1]\n",
    "    )\n",
    "    \n",
    "    metrs.append(s)"
   ]
  },
  {
   "cell_type": "code",
   "execution_count": 39,
   "metadata": {},
   "outputs": [
    {
     "name": "stdout",
     "output_type": "stream",
     "text": [
      "0.49\n"
     ]
    },
    {
     "data": {
      "image/png": "[encoded data removed]",
      "text/plain": [
       "<Figure size 432x288 with 1 Axes>"
      ]
     },
     "metadata": {
      "image/png": {
       "height": 263,
       "width": 443
      },
      "needs_background": "light"
     },
     "output_type": "display_data"
    }
   ],
   "source": [
    "print(pd.Series(metrs <= obs).mean())\n",
    "pd.Series(metrs).plot(kind='hist', bins=20, title='Permutation Test for severity prediction between coastal/ inland groups')\n",
    "plt.scatter(obs, 0, c='r');"
   ]
  },
  {
   "cell_type": "markdown",
   "metadata": {},
   "source": [
    "### Conclusion on Fairness\n",
    "\n",
    "It seems that from our permutation test, we get a p-value of 0.49 (>0.01), which means we fail to reject the null. Hence, we will conclude that our model is fair when predicting for coastal and inland states."
   ]
  },
  {
   "cell_type": "code",
   "execution_count": null,
   "metadata": {},
   "outputs": [],
   "source": []
  }
 ],
 "metadata": {
  "kernelspec": {
   "display_name": "Python 3",
   "language": "python",
   "name": "python3"
  },
  "language_info": {
   "codemirror_mode": {
    "name": "ipython",
    "version": 3
   },
   "file_extension": ".py",
   "mimetype": "text/x-python",
   "name": "python",
   "nbconvert_exporter": "python",
   "pygments_lexer": "ipython3",
   "version": "3.8.6"
  }
 },
 "nbformat": 4,
 "nbformat_minor": 4
}
